{
 "cells": [
  {
   "cell_type": "markdown",
   "id": "73c6512b-f8e8-453f-8a75-3c1a44f39ac7",
   "metadata": {},
   "source": []
  },
  {
   "cell_type": "markdown",
   "id": "75e649d0-cef4-45ff-80c5-0d418bd1da0a",
   "metadata": {},
   "source": [
    "# Data Science Tools and Ecosystem"
   ]
  },
  {
   "cell_type": "markdown",
   "id": "ffd58d07-9ead-4fce-af47-e910b9fb639f",
   "metadata": {},
   "source": [
    "## Auther\n",
    "Joseph"
   ]
  },
  {
   "cell_type": "markdown",
   "id": "5a174130-bfba-47e0-9367-d618fb7c898e",
   "metadata": {},
   "source": [
    "In this notebook, Data Science Tools and Ecosystem are summarized. I have learned many things about notebook and its usages in this course"
   ]
  },
  {
   "cell_type": "code",
   "execution_count": null,
   "id": "fe296f59-32c7-4401-8984-1cd1409f0721",
   "metadata": {},
   "outputs": [],
   "source": []
  },
  {
   "cell_type": "markdown",
   "id": "d14fea60-f136-4665-89cc-1c4ef3b6c28d",
   "metadata": {},
   "source": [
    "***Objectives:***\n",
    "\n",
    "Popular languages for data science are : \n",
    "* Scala \n",
    "* Julia \n",
    "* R \n",
    "* Python\n",
    "* C++\n",
    "* java"
   ]
  },
  {
   "cell_type": "markdown",
   "id": "3c1e4112-1b15-439f-976f-078caf6d9955",
   "metadata": {},
   "source": [
    "Some of the popular languages that Data Scientists use are:"
   ]
  },
  {
   "cell_type": "markdown",
   "id": "cbe3b5cf-9446-4a08-8223-e582076a87f8",
   "metadata": {},
   "source": [
    "1. Python\n",
    "2. R\n",
    "3. Scala\n",
    "4. Java"
   ]
  },
  {
   "cell_type": "markdown",
   "id": "197570b0-151f-4ed6-a842-073ad29d8968",
   "metadata": {},
   "source": [
    "Some of the commonly used libraries used by Data Scientists include:"
   ]
  },
  {
   "cell_type": "markdown",
   "id": "507e21aa-bfb1-4093-be99-779aee097f4a",
   "metadata": {},
   "source": [
    "1. SciPy\n",
    "2. TensorFlow\n",
    "3. Plotly\n",
    "4. Pandas"
   ]
  },
  {
   "cell_type": "markdown",
   "id": "592b6ab4-8a54-4b5d-8e41-020d2290d656",
   "metadata": {},
   "source": [
    "|Data Science Tools|\n",
    "|---------------|\n",
    "|Jupyter|\n",
    "|Hadoop|\n",
    "|R Studio|"
   ]
  },
  {
   "cell_type": "markdown",
   "id": "4fffbde1-9442-4ba0-ab22-2f461ecf77a1",
   "metadata": {},
   "source": [
    "### Below are a few examples of evaluating arithmetic expressions in Python"
   ]
  },
  {
   "cell_type": "code",
   "execution_count": 8,
   "id": "7904c8ab-133a-411a-9aab-f7c90ed883a2",
   "metadata": {
    "tags": []
   },
   "outputs": [
    {
     "data": {
      "text/plain": [
       "17"
      ]
     },
     "execution_count": 8,
     "metadata": {},
     "output_type": "execute_result"
    }
   ],
   "source": [
    "#This a simple arithmetic expression to mutiply then add integers\n",
    "(3*4)+5"
   ]
  },
  {
   "cell_type": "code",
   "execution_count": 10,
   "id": "32568a7d-63e7-4105-8996-7e38b2724f56",
   "metadata": {
    "tags": []
   },
   "outputs": [
    {
     "data": {
      "text/plain": [
       "3.3333333333333335"
      ]
     },
     "execution_count": 10,
     "metadata": {},
     "output_type": "execute_result"
    }
   ],
   "source": [
    "#This will convert 200 minutes to hours by diving by 60\n",
    "200/60"
   ]
  },
  {
   "cell_type": "code",
   "execution_count": null,
   "id": "90cd0d54-7446-434c-9328-4c689c56d254",
   "metadata": {},
   "outputs": [],
   "source": []
  }
 ],
 "metadata": {
  "kernelspec": {
   "display_name": "Python",
   "language": "python",
   "name": "conda-env-python-py"
  },
  "language_info": {
   "codemirror_mode": {
    "name": "ipython",
    "version": 3
   },
   "file_extension": ".py",
   "mimetype": "text/x-python",
   "name": "python",
   "nbconvert_exporter": "python",
   "pygments_lexer": "ipython3",
   "version": "3.7.12"
  }
 },
 "nbformat": 4,
 "nbformat_minor": 5
}
